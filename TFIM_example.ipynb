{
 "cells": [
  {
   "cell_type": "code",
   "execution_count": null,
   "id": "3b819fd0",
   "metadata": {},
   "outputs": [
    {
     "name": "stderr",
     "output_type": "stream",
     "text": [
      "\u001B[32m\u001B[1m  Activating\u001B[22m\u001B[39m project at `~/Documents/aaETH/PhD/codes/cc2d_example`\n"
     ]
    }
   ],
   "source": [
    "using Pkg\n",
    "Pkg.activate(\".\")\n",
    "\n",
    "#comment out after first installation\n",
    "Pkg.add(name=\"PauliPropagation\", version=\"0.3.0\")\n",
    "Pkg.add(\"ReverseDiff\")\n",
    "Pkg.add(\"OptimKit\")"
   ]
  },
  {
   "cell_type": "code",
   "execution_count": 13,
   "id": "6fa57051",
   "metadata": {},
   "outputs": [],
   "source": [
    "using PauliPropagation\n",
    "using ReverseDiff\n",
    "using OptimKit\n",
    "\n",
    "include(\"TFIM_example_utils.jl\");"
   ]
  },
  {
   "cell_type": "markdown",
   "id": "a9c422dc",
   "metadata": {},
   "source": [
    "The goal is to compress the dynamics $U$ of $L_U$ layers of the TFIM Hamiltonian into an ansatz $V(\\vec\\theta)$ with $L_V$ layers ($L_V < L_U$) by minimizing\n",
    "$$ R_{\\mathcal{Q}_{LS}}^{\\mathrm{loc}}(\\vec \\theta)= \\frac{1}{2} - \\frac{1}{6n} \\sum_{j=1}^{n_q}\\sum_{P = X, Y, Z} \\langle\\langle P_j \\vert \\boldsymbol{V(\\vec\\theta)U^\\dagger}\\vert P_j\\rangle \\rangle, $$\n",
    "using `PauliPropagation.jl`.\n",
    "This is an example notebook for the compression algorithm for 2D systems introduced in [[1]](https://arxiv.org/abs/2507.01883)."
   ]
  },
  {
   "cell_type": "markdown",
   "id": "a88e4c73",
   "metadata": {},
   "source": [
    "Lattice and couplings setup: create a rectangular topology of $n_x\\times n_y$ qubits, specify the interaction strength and the transverse field for the TFIM Hamiltonian."
   ]
  },
  {
   "cell_type": "code",
   "execution_count": null,
   "id": "604c5264",
   "metadata": {},
   "outputs": [],
   "source": [
    "nx = 3\n",
    "ny = 3\n",
    "nq = nx * ny\n",
    "topo = rectangletopology(nx, ny)\n",
    "\n",
    "J = 1.\n",
    "h = 1.;"
   ]
  },
  {
   "cell_type": "markdown",
   "id": "1631e092",
   "metadata": {},
   "source": [
    "Specify the number of layers in the target $L_U$ and in the ansatz $L_V$."
   ]
  },
  {
   "cell_type": "code",
   "execution_count": 15,
   "id": "6729748c",
   "metadata": {},
   "outputs": [],
   "source": [
    "LU = 8\n",
    "LV = 2\n",
    "\n",
    "t = 0.42;"
   ]
  },
  {
   "cell_type": "markdown",
   "id": "20f6f2dd",
   "metadata": {},
   "source": [
    "Store the gates needed to implement a single layer of a second order trotterization $$ e^{-i \\Delta t H_{TFIM}} \\approx e^{-i \\frac{\\Delta t}2 H_{X}} e^{-i \\Delta t H_{ZZ}} e^{-i \\frac{\\Delta t}2 H_{X}}$$\n",
    "Note that `PauliRotation(theta)` gates implement a rotation with angle `theta/2`, so we need to multiply all our angles by a factor two."
   ]
  },
  {
   "cell_type": "code",
   "execution_count": null,
   "id": "0d877567",
   "metadata": {},
   "outputs": [
    {
     "data": {
      "text/plain": [
       "Float64"
      ]
     },
     "metadata": {},
     "output_type": "display_data"
    }
   ],
   "source": [
    "single_layer::Vector{Gate} = []\n",
    "thetaU_single_layer::Vector{Float64} = []\n",
    "\n",
    "dt = t / LU\n",
    "\n",
    "for i in 1:nq\n",
    "    push!(single_layer, PauliRotation(:X, i))\n",
    "    push!(thetaU_single_layer, dt * h)\n",
    "end\n",
    "\n",
    "for pair in topo\n",
    "    push!(single_layer, PauliRotation([:Z, :Z], pair))\n",
    "    push!(thetaU_single_layer, dt * J * 2)\n",
    "end\n",
    "\n",
    "for i in 1:nq\n",
    "    push!(single_layer, PauliRotation(:X, i))\n",
    "    push!(thetaU_single_layer, dt * h)\n",
    "end\n",
    "\n",
    "circU = repeat(single_layer, LU)\n",
    "thetasU = repeat(thetaU_single_layer, LU)\n",
    "CoeffType = eltype(thetasU)"
   ]
  },
  {
   "cell_type": "markdown",
   "id": "63ee3e52",
   "metadata": {},
   "source": [
    "Specify PP truncations."
   ]
  },
  {
   "cell_type": "code",
   "execution_count": 17,
   "id": "01ad0fda",
   "metadata": {},
   "outputs": [],
   "source": [
    "min_abs_coeff_U = 1.e-10\n",
    "min_abs_coeff_V = 1.e-11\n",
    "max_sins_U = 11\n",
    "max_sins_V = 12\n",
    "W = 8;"
   ]
  },
  {
   "cell_type": "markdown",
   "id": "cf7baa41",
   "metadata": {},
   "source": [
    "Create a list `all_symbs_U` containing all $3n_q$ Pauli strings that we need to compute the cost function"
   ]
  },
  {
   "cell_type": "code",
   "execution_count": null,
   "id": "39f99821",
   "metadata": {},
   "outputs": [],
   "source": [
    "iter_paulis = []\n",
    "for site = 1:nq\n",
    "    for sigma in [:X, :Y, :Z]\n",
    "        push!(iter_paulis, (site, sigma))\n",
    "    end\n",
    "end\n",
    "sigma_to_index = Dict(:X => 1, :Y => 2, :Z => 3)\n",
    "\n",
    "all_symbs_U = []\n",
    "for (site, sigma) in iter_paulis\n",
    "    symb = PauliSum(nq, CoeffType)\n",
    "    add!(symb, sigma, site, CoeffType(1.0))\n",
    "    push!(all_symbs_U, wrapcoefficients(symb, PauliFreqTracker))\n",
    "end"
   ]
  },
  {
   "cell_type": "markdown",
   "id": "b3fac281",
   "metadata": {},
   "source": [
    "Compute $\\bm{U^\\dagger}\\vert P_j\\rangle\\rangle$ for all strings in `all_symbs_U`"
   ]
  },
  {
   "cell_type": "code",
   "execution_count": 19,
   "id": "aa87fdb1",
   "metadata": {},
   "outputs": [],
   "source": [
    "for index = 1:size(all_symbs_U)[1]\n",
    "    propagate!(reverse(circU), all_symbs_U[index], -reverse(thetasU),\n",
    "        min_abs_coeff=min_abs_coeff_U, max_sins=max_sins_U, max_weight=W)\n",
    "end"
   ]
  },
  {
   "cell_type": "markdown",
   "id": "a95ccca8",
   "metadata": {},
   "source": [
    "Here we compute $\\langle \\langle P_j\\vert \\boldsymbol{V(\\vec\\theta)}$ and then evaluate the inner product $\\langle \\langle P_j\\vert \\boldsymbol{V(\\vec\\theta)} \\cdot \\boldsymbol{U^\\dagger}\\vert P_j\\rangle\\rangle$.\n",
    "Since we are interested in optimizing over $\\vec\\theta$, we need to extract the gradient as well. To this end we emply the `ReverseDiff` AD library, which allows us to \"prerecord\" a compiled tape of the gradient that we can use for the later optimization. For each Pauli string we precompile the tape of $\\langle \\langle P_j\\vert \\boldsymbol{V(\\vec\\theta)} \\cdot \\boldsymbol{U^\\dagger}\\vert P_j\\rangle\\rangle$, and we store all of them in `tapes`."
   ]
  },
  {
   "cell_type": "code",
   "execution_count": 20,
   "id": "9eac854b",
   "metadata": {},
   "outputs": [],
   "source": [
    "circV = repeat(single_layer, LV)\n",
    "\n",
    "tapes = create_tapes(circV, iter_paulis, W, max_sins_V, min_abs_coeff_V, all_symbs_U, ones(length(circV)), nq)\n",
    "\n",
    "fg = function (params)\n",
    "    return Cloc(iter_paulis, params, nq, tapes; return_grad=true)\n",
    "end\n",
    "\n",
    "f = function (params)\n",
    "    return Cloc(iter_paulis, params, nq, tapes; return_grad=false)\n",
    "end;"
   ]
  },
  {
   "cell_type": "markdown",
   "id": "bea64a61",
   "metadata": {},
   "source": [
    "Perform the optimization starting from the initial guess `x_trotter` corresponding to the Trotter angles for $L_V$ layers."
   ]
  },
  {
   "cell_type": "code",
   "execution_count": null,
   "id": "4f19924d",
   "metadata": {},
   "outputs": [
    {
     "name": "stderr",
     "output_type": "stream",
     "text": [
      "┌ Warning: CG: not converged to requested tol after 20 iterations and time 4.44 s: f = 0.000078202419, ‖∇f‖ = 1.5452e-05\n",
      "└ @ OptimKit /Users/Matteo/.julia/packages/OptimKit/G6i79/src/cg.jl:172\n"
     ]
    }
   ],
   "source": [
    "gradtol = 1.e-12\n",
    "maxiter = 20\n",
    "cg = OptimKit.ConjugateGradient(verbosity=1, gradtol=gradtol, maxiter=maxiter)\n",
    "\n",
    "x_trotter = repeat(thetaU_single_layer, LV) .* (LU / LV)\n",
    "x, fx, gx, numfg, normgradhistory = OptimKit.optimize(fg, x_trotter, cg);"
   ]
  },
  {
   "cell_type": "code",
   "execution_count": 22,
   "id": "100e39ef",
   "metadata": {},
   "outputs": [
    {
     "name": "stdout",
     "output_type": "stream",
     "text": [
      "Improvement over Trotter: 6.244404100079742\n"
     ]
    }
   ],
   "source": [
    "println(\"Improvement over Trotter: $(f(x_trotter) / fx)\")"
   ]
  }
 ],
 "metadata": {
  "kernelspec": {
   "display_name": "Julia 1.11.3",
   "language": "julia",
   "name": "julia-1.11"
  },
  "language_info": {
   "file_extension": ".jl",
   "mimetype": "application/julia",
   "name": "julia",
   "version": "1.11.3"
  }
 },
 "nbformat": 4,
 "nbformat_minor": 5
}
